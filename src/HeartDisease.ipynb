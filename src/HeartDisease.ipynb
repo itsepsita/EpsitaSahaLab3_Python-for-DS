{
  "metadata": {
    "kernelspec": {
      "name": "python",
      "display_name": "Python (Pyodide)",
      "language": "python"
    },
    "language_info": {
      "codemirror_mode": {
        "name": "python",
        "version": 3
      },
      "file_extension": ".py",
      "mimetype": "text/x-python",
      "name": "python",
      "nbconvert_exporter": "python",
      "pygments_lexer": "ipython3",
      "version": "3.8"
    }
  },
  "nbformat_minor": 4,
  "nbformat": 4,
  "cells": [
    {
      "cell_type": "code",
      "source": "import pandas as pd\nimport numpy as np\nimport matplotlib.pyplot as plt\nimport seaborn as sns\nfrom sklearn.model_selection import train_test_split\nfrom sklearn.preprocessing import StandardScaler, LabelEncoder\nfrom sklearn.linear_model import LogisticRegression\nfrom sklearn.neighbors import KNeighborsClassifier\nfrom sklearn.naive_bayes import GaussianNB\nfrom sklearn.tree import DecisionTreeClassifier\nfrom sklearn.ensemble import RandomForestClassifier, AdaBoostClassifier, GradientBoostingClassifier, StackingClassifier\nfrom sklearn.metrics import accuracy_score, confusion_matrix, classification_report\n",
      "metadata": {
        "trusted": true
      },
      "outputs": [],
      "execution_count": null
    },
    {
      "cell_type": "code",
      "source": "# Load the dataset\nurl = \"https://www.kaggle.com/datasets/kamilpytlak/personal-key-indicators-of-heart-disease?datasetId=1936563&sortBy=voteCount\"\ndata = pd.read_csv(url)\n\n# Display first 5 rows\nprint(data.head())",
      "metadata": {
        "trusted": true
      },
      "outputs": [],
      "execution_count": null
    },
    {
      "cell_type": "code",
      "source": "# Check the shape of the data\nprint(data.shape)\n\n# General information\nprint(data.info())",
      "metadata": {
        "trusted": true
      },
      "outputs": [],
      "execution_count": null
    },
    {
      "cell_type": "code",
      "source": "# Statistical summary\nprint(data.describe())",
      "metadata": {
        "trusted": true
      },
      "outputs": [],
      "execution_count": null
    },
    {
      "cell_type": "code",
      "source": "# Check missing values\nmissing_values = data.isnull().sum()\nmissing_percentage = (missing_values / data.shape[0]) * 100\nprint(missing_percentage)\n\n# Drop missing values if any\ndata = data.dropna()",
      "metadata": {
        "trusted": true
      },
      "outputs": [],
      "execution_count": null
    },
    {
      "cell_type": "code",
      "source": "# Check for duplicates\nduplicates = data.duplicated().sum()\nprint(f\"Duplicate Rows: {duplicates}\")\n\n# Remove duplicates if any\ndata = data.drop_duplicates()",
      "metadata": {
        "trusted": true
      },
      "outputs": [],
      "execution_count": null
    },
    {
      "cell_type": "code",
      "source": "# Distribution of the target variable\nsns.countplot(data['HeartDisease'])\nplt.title('Heart Disease Distribution')\nplt.show()",
      "metadata": {
        "trusted": true
      },
      "outputs": [],
      "execution_count": null
    },
    {
      "cell_type": "code",
      "source": "# Visualize 'HeartDisease' with respect to categorical features\nsns.countplot(data['Sex'], hue=data['HeartDisease'])\nplt.title('Heart Disease by Sex')\nplt.show()",
      "metadata": {
        "trusted": true
      },
      "outputs": [],
      "execution_count": null
    },
    {
      "cell_type": "code",
      "source": "# Replace 'Yes (during pregnancy)' as 'Yes' and 'No, borderline diabetes' as 'No'\ndata['Diabetic'] = data['Diabetic'].replace({\n    'Yes (during pregnancy)': 'Yes',\n    'No, borderline diabetes': 'No'\n})",
      "metadata": {
        "trusted": true
      },
      "outputs": [],
      "execution_count": null
    },
    {
      "cell_type": "code",
      "source": "# Encode 'HeartDisease'\ndata['HeartDisease'] = data['HeartDisease'].map({'No': 0, 'Yes': 1})",
      "metadata": {
        "trusted": true
      },
      "outputs": [],
      "execution_count": null
    },
    {
      "cell_type": "code",
      "source": "# Label encode categorical columns\nlabel_encoder = LabelEncoder()\ndata['AgeCategory'] = label_encoder.fit_transform(data['AgeCategory'])\ndata['Race'] = label_encoder.fit_transform(data['Race'])\ndata['GenHealth'] = label_encoder.fit_transform(data['GenHealth'])\n\n# One-hot encode the rest of the categorical columns\ndata = pd.get_dummies(data, drop_first=True)",
      "metadata": {
        "trusted": true
      },
      "outputs": [],
      "execution_count": null
    },
    {
      "cell_type": "code",
      "source": "# Features and target variable\nX = data.drop('HeartDisease', axis=1)\ny = data['HeartDisease']",
      "metadata": {
        "trusted": true
      },
      "outputs": [],
      "execution_count": null
    },
    {
      "cell_type": "code",
      "source": "# Split data into train and test sets (70% train, 30% test)\nX_train, X_test, y_train, y_test = train_test_split(X, y, test_size=0.3, random_state=42)",
      "metadata": {
        "trusted": true
      },
      "outputs": [],
      "execution_count": null
    },
    {
      "cell_type": "code",
      "source": "# Standardize numerical columns\nscaler = StandardScaler()\nX_train_scaled = scaler.fit_transform(X_train)\nX_test_scaled = scaler.transform(X_test)",
      "metadata": {
        "trusted": true
      },
      "outputs": [],
      "execution_count": null
    },
    {
      "cell_type": "code",
      "source": "def train_and_evaluate(model, X_train, X_test, y_train, y_test):\n    model.fit(X_train, y_train)\n    y_pred = model.predict(X_test)\n    accuracy = accuracy_score(y_test, y_pred)\n    return accuracy, confusion_matrix(y_test, y_pred), classification_report(y_test, y_pred)",
      "metadata": {
        "trusted": true
      },
      "outputs": [],
      "execution_count": null
    },
    {
      "cell_type": "code",
      "source": "# Initialize models\nmodels = {\n    'Logistic Regression': LogisticRegression(),\n    'KNN': KNeighborsClassifier(),\n    'Naive Bayes': GaussianNB(),\n    'Decision Tree': DecisionTreeClassifier(),\n    'Random Forest': RandomForestClassifier(),\n    'AdaBoost': AdaBoostClassifier(),\n    'GradientBoost': GradientBoostingClassifier()\n}\n\n# Evaluate models\nresults = {}\nfor name, model in models.items():\n    accuracy, cm, cr = train_and_evaluate(model, X_train_scaled, X_test_scaled, y_train, y_test)\n    results[name] = {'Accuracy': accuracy, 'Confusion Matrix': cm, 'Classification Report': cr}\n\n# Display results\nfor name, result in results.items():\n    print(f\"Model: {name}\")\n    print(f\"Accuracy: {result['Accuracy']}\")\n    print(f\"Confusion Matrix:\\n{result['Confusion Matrix']}\")\n    print(f\"Classification Report:\\n{result['Classification Report']}\")",
      "metadata": {
        "trusted": true
      },
      "outputs": [],
      "execution_count": null
    },
    {
      "cell_type": "code",
      "source": "",
      "metadata": {
        "trusted": true
      },
      "outputs": [],
      "execution_count": null
    }
  ]
}